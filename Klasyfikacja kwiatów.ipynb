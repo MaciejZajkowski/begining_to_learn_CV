{
 "cells": [
  {
   "cell_type": "code",
   "execution_count": 1,
   "metadata": {},
   "outputs": [],
   "source": [
    "import matplotlib.pyplot as plt # plotting\n",
    "import numpy as np # linear algebra\n",
    "import os # accessing directory structure\n",
    "import tensorflow as tf\n",
    "from tensorflow.keras import layers\n",
    "from tensorflow.keras.models import Sequential\n",
    "from PIL import Image\n",
    "import glob\n",
    "import shutil\n",
    "from skimage import io\n",
    "import cv2\n",
    "import pandas as pd\n",
    "from tensorflow.keras import regularizers\n",
    "from tensorflow.keras.optimizers import SGD, RMSprop, Adam\n",
    "import random\n",
    "from torchvision.transforms import Compose, ColorJitter, RandomRotation\n",
    "import seaborn as sns  "
   ]
  },
  {
   "cell_type": "code",
   "execution_count": 2,
   "metadata": {},
   "outputs": [],
   "source": [
    "#to są funkcje których będę używał w programie, uznałem że warto je zgromadzić w jednym miejsu\n",
    "#ta znajduje dostępne klasy, ich nazwy oraz ilość plików w nich\n",
    "def Classes_and_velocity(path):\n",
    "    classes =[]\n",
    "    for dirname, _, filenames in os.walk(path):\n",
    "        classname = dirname.replace(path, '')\n",
    "        number = 0\n",
    "        for filename in filenames:\n",
    "            number = number+ 1\n",
    "        classes.append((classname[1:],number))\n",
    "    \n",
    "    classes.pop(0)\n",
    "\n",
    "    return classes\n",
    "\n",
    "def create_new_folder(parent_dir,new_folder_name):\n",
    "        path = os.path.join(parent_dir, new_folder_name)\n",
    "        os.mkdir(path)\n",
    "\n",
    "def path_create(read_path,classname,save_path,filename):\n",
    "        final_readpath = os.path.join(read_path, classname,filename)\n",
    "        final_savepath = os.path.join(save_path, classname)\n",
    "        return final_readpath,final_savepath\n",
    "\n",
    "#kopuje pliki z jednego miejsca do 2\n",
    "def copy_relocating_image(readpath,save_path):\n",
    "    for jpgfile in glob.iglob(readpath):\n",
    "        shutil.copy(jpgfile, save_path)\n",
    "\n",
    "#znajduje pliki, na stałe dzieli dane w oddzielnych folderach oraz zwraca podzbiory danych do modelu\n",
    "def Image_DS_Split(loadpath,savepath,train_to_val_ratio = 0.8,trainval_to_test_ratio = 0.8,batchsize = 32,img_height =180,img_width = 180):\n",
    "    DataTable =[]\n",
    "    classes = Classes_and_velocity(loadpath)\n",
    "    for dirname, _, filenames in os.walk(loadpath):\n",
    "        classname = dirname.replace(loadpath, '')\n",
    "        filenamestable = []\n",
    "        for filename in filenames:\n",
    "            filenamestable.append((classname[1:],filename))\n",
    "        DataTable.append(filenamestable)\n",
    "    DataTable.pop(0)\n",
    "    import random\n",
    "    Train_val_img_names = []\n",
    "    for idex,filenames in enumerate(DataTable): \n",
    "        l = classes[idex][1] \n",
    "        number_of_files = int(l*trainval_to_test_ratio)\n",
    "        Train_val_img_names.append(random.sample(filenames, number_of_files))\n",
    "\n",
    "    \n",
    "    for index in range (len(DataTable)):\n",
    "        for element in Train_val_img_names[index]:\n",
    "            DataTable[index].remove(element)\n",
    "\n",
    "    \n",
    "    DataTable = np.array(DataTable,dtype = object)\n",
    "    DataTable = DataTable.flatten()\n",
    "    \n",
    "    Train_val_img_names = np.array(Train_val_img_names, dtype = object)\n",
    "    Train_val_img_names = Train_val_img_names.flatten()\n",
    "    \n",
    "    create_new_folder(savepath,new_folder_name= 'train_val')\n",
    "    create_new_folder(savepath,new_folder_name= 'test')\n",
    "    sp1 = os.path.join(savepath, 'train_val')\n",
    "    sp2 = os.path.join(savepath,'test')\n",
    "\n",
    "    for i, dat in enumerate(classes):\n",
    "        create_new_folder(sp1,dat[0])\n",
    "        create_new_folder(sp2,dat[0])\n",
    "    \n",
    "\n",
    "    for j in range(len (DataTable)):\n",
    "        for i, data in enumerate(DataTable[j]):\n",
    "            x,y = path_create(loadpath,data[0],sp2,data[1])\n",
    "            copy_relocating_image(x,y)\n",
    "    \n",
    "    for j in range(len (Train_val_img_names)):\n",
    "        for i, data in enumerate(Train_val_img_names[j]):\n",
    "            x,y = path_create(loadpath,data[0],sp1,data[1])\n",
    "            copy_relocating_image(x,y)  \n",
    "\n",
    "    test_ds = tf.keras.utils.image_dataset_from_directory( sp2, validation_split= 0.999999, subset=\"validation\", seed=123, image_size=(img_height, img_width),\n",
    "    batch_size=batchsize)\n",
    "    train_ds = tf.keras.utils.image_dataset_from_directory( sp1, validation_split= (1 -train_to_val_ratio), subset=\"training\", seed=123, image_size=(img_height, img_width),\n",
    "    batch_size=batchsize)\n",
    "    val_ds = tf.keras.utils.image_dataset_from_directory( sp1, validation_split= (1 -train_to_val_ratio), subset=\"validation\", seed=123, image_size=(img_height, img_width),\n",
    "    batch_size=batchsize)\n",
    "    \n",
    "\n",
    "    return train_ds , val_ds,test_ds,classes\n",
    "\n",
    "#tworzy nowe zdj na podstawie istniejących, balansuje klasy. robi backup\n",
    "def T_function(loadpath,classes,savepath, data_transforms_table,number_of_additional_tranforemd_img =0):\n",
    "    maxvfiles = max(classes,key =lambda x:x[1])[1]\n",
    "    needed_files_in_classes = []\n",
    "\n",
    "    for index,data in enumerate(classes):\n",
    "        needed_files_in_classes.append((data[0], maxvfiles- data[1])) \n",
    "\n",
    "    DataTable =[]\n",
    "    for dirname, _, filenames in os.walk(loadpath):\n",
    "        classname = dirname.replace(loadpath, '')\n",
    "        filenamestable = []\n",
    "        for filename in filenames:\n",
    "            filenamestable.append((classname[1:],filename))\n",
    "        DataTable.append(filenamestable)\n",
    "\n",
    "    DataTable.pop(0)\n",
    "\n",
    "    Files_to_transform = []\n",
    "    for idex,filenames in enumerate(DataTable):\n",
    "        number_of_files = needed_files_in_classes[idex][1]\n",
    "        Files_to_transform.append(random.sample(filenames, number_of_additional_tranforemd_img+ number_of_files))\n",
    "\n",
    "    for i, dat in enumerate(classes):\n",
    "        create_new_folder(savepath,dat[0])\n",
    "\n",
    "    for j in range(len (DataTable)):\n",
    "        for i, data in enumerate(DataTable[j]):\n",
    "            x,y = path_create(loadpath,data[0],savepath,data[1])\n",
    "            copy_relocating_image(x,y)\n",
    "\n",
    "\n",
    "    just_names_table = []\n",
    "    for j in range(len(Files_to_transform)):\n",
    "        for i,d in enumerate(Files_to_transform[j]):\n",
    "            just_names_table.append(d[1])\n",
    "\n",
    "    for dirname, _, filenames in os.walk(loadpath):\n",
    "        for filename in filenames:\n",
    "            cl= dirname.replace(loadpath, '')\n",
    "            if filename in just_names_table:\n",
    "                fp = os.path.join(dirname,filename)\n",
    "                img = Image.open(fp)\n",
    "                img.load()\n",
    "                img = random.choice(data_transforms_table)(img)\n",
    "                img_name = '_t_'+ filename\n",
    "                img_name.replace('.jpg','')\n",
    "                x,y =path_create(loadpath,cl[1:],savepath,img_name)\n",
    "                img.save(x,'JPEG')\n",
    "\n",
    "def evaluate_conf_matrix(test_path,img_size,model,class_names):\n",
    "    pred = []\n",
    "    true = []\n",
    "    for dirname, _, filenames in os.walk(test_path):\n",
    "        for filename in filenames:\n",
    "            path = os.path.join(dirname,filename)\n",
    "\n",
    "            img = tf.keras.utils.load_img(path, target_size=img_size )\n",
    "\n",
    "            img_array = tf.keras.utils.img_to_array(img)\n",
    "            img_array = tf.expand_dims(img_array, 0)\n",
    "            predictions = model.predict(img_array)\n",
    "            score = tf.nn.softmax(predictions[0])\n",
    "\n",
    "            classname = dirname.replace(test_path, '')\n",
    "            classname = classname[1:]\n",
    "\n",
    "            pred.append( class_names.index(class_names[np.argmax(score)]))\n",
    "            true.append(class_names.index(classname))\n",
    "    return tf.math.confusion_matrix(true,pred)\n",
    "                "
   ]
  },
  {
   "cell_type": "code",
   "execution_count": 3,
   "metadata": {},
   "outputs": [],
   "source": [
    "classes = Classes_and_velocity(r'Data\\flowers')"
   ]
  },
  {
   "cell_type": "code",
   "execution_count": 4,
   "metadata": {},
   "outputs": [],
   "source": [
    "names = []\n",
    "numbers = []\n",
    "for i,c in enumerate(classes):\n",
    "    names.append(c[0] +': ' +str(c[1]) )\n",
    "    numbers.append(c[1])\n",
    "\n",
    "\n",
    "df =pd.DataFrame(numbers,index =names, columns= pd.Index(['flowers']))"
   ]
  },
  {
   "cell_type": "code",
   "execution_count": 5,
   "metadata": {},
   "outputs": [
    {
     "data": {
      "text/plain": [
       "<AxesSubplot:>"
      ]
     },
     "execution_count": 5,
     "metadata": {},
     "output_type": "execute_result"
    },
    {
     "data": {
      "image/png": "[encoded data removed]",
      "text/plain": [
       "<Figure size 432x288 with 1 Axes>"
      ]
     },
     "metadata": {
      "needs_background": "light"
     },
     "output_type": "display_data"
    }
   ],
   "source": [
    "df.plot.bar()"
   ]
  },
  {
   "cell_type": "code",
   "execution_count": 6,
   "metadata": {},
   "outputs": [
    {
     "name": "stdout",
     "output_type": "stream",
     "text": [
      "Found 1298 files belonging to 5 classes.\n",
      "Using 1297 files for validation.\n",
      "Found 3019 files belonging to 5 classes.\n",
      "Using 2416 files for training.\n",
      "Found 3019 files belonging to 5 classes.\n",
      "Using 603 files for validation.\n"
     ]
    }
   ],
   "source": [
    "train_ds, val_ds,test_ds,classes = Image_DS_Split(r'Data\\flowers',r'Data',0.8,0.7,batchsize=32,img_height=180, img_width = 180)"
   ]
  },
  {
   "cell_type": "code",
   "execution_count": 7,
   "metadata": {},
   "outputs": [],
   "source": [
    "class_names = train_ds.class_names\n",
    "num_classes = len (class_names)"
   ]
  },
  {
   "cell_type": "code",
   "execution_count": 8,
   "metadata": {},
   "outputs": [],
   "source": [
    "data_augmentation = tf.keras.Sequential(\n",
    "    [\n",
    "        layers.RandomFlip(\"horizontal\"),\n",
    "        layers.RandomRotation(0.1),\n",
    "    ]\n",
    ")\n"
   ]
  },
  {
   "cell_type": "code",
   "execution_count": 9,
   "metadata": {},
   "outputs": [],
   "source": [
    "model1 = Sequential([\n",
    "  data_augmentation,\n",
    "  layers.Rescaling(1./255),\n",
    "  layers.Conv2D(5, 3, padding='same', activation='relu'),\n",
    "  layers.MaxPooling2D(),\n",
    "  layers.Conv2D(10, 3, padding='same', activation='relu'),\n",
    "  layers.MaxPooling2D(),\n",
    "  layers.Conv2D(64, 3, padding='same', activation='relu'),\n",
    "  layers.MaxPooling2D(),\n",
    "  layers.Flatten(),\n",
    "  layers.Dense(128, activation='relu'),\n",
    "  layers.Dropout(0.1),\n",
    "  layers.Dense(50, activation='relu'),\n",
    "  layers.Dropout(0.1),\n",
    "  layers.Dense(num_classes,activation='sigmoid')\n",
    "])\n",
    "\n",
    "model1.compile(optimizer='adam',\n",
    "              loss=tf.keras.losses.SparseCategoricalCrossentropy(from_logits=True),\n",
    "              metrics=['accuracy'])\n",
    "\n",
    "\n"
   ]
  },
  {
   "cell_type": "code",
   "execution_count": 10,
   "metadata": {},
   "outputs": [
    {
     "name": "stdout",
     "output_type": "stream",
     "text": [
      "Epoch 1/13\n"
     ]
    },
    {
     "name": "stderr",
     "output_type": "stream",
     "text": [
      "C:\\Users\\macie\\AppData\\Local\\Programs\\Python\\Python39\\lib\\site-packages\\tensorflow\\python\\util\\dispatch.py:1096: UserWarning: \"`sparse_categorical_crossentropy` received `from_logits=True`, but the `output` argument was produced by a sigmoid or softmax activation and thus does not represent logits. Was this intended?\"\n",
      "  return dispatch_target(*args, **kwargs)\n"
     ]
    },
    {
     "name": "stdout",
     "output_type": "stream",
     "text": [
      "76/76 [==============================] - 22s 266ms/step - loss: 1.4131 - accuracy: 0.3783 - val_loss: 1.2294 - val_accuracy: 0.4726\n",
      "Epoch 2/13\n",
      "76/76 [==============================] - 21s 274ms/step - loss: 1.1547 - accuracy: 0.5315 - val_loss: 1.1144 - val_accuracy: 0.5423\n",
      "Epoch 3/13\n",
      "76/76 [==============================] - 21s 273ms/step - loss: 1.0626 - accuracy: 0.5857 - val_loss: 1.0726 - val_accuracy: 0.5556\n",
      "Epoch 4/13\n",
      "76/76 [==============================] - 21s 273ms/step - loss: 0.9836 - accuracy: 0.6138 - val_loss: 1.0075 - val_accuracy: 0.5970\n",
      "Epoch 5/13\n",
      "76/76 [==============================] - 21s 274ms/step - loss: 0.9349 - accuracy: 0.6436 - val_loss: 1.0293 - val_accuracy: 0.5705\n",
      "Epoch 6/13\n",
      "76/76 [==============================] - 21s 275ms/step - loss: 0.8901 - accuracy: 0.6556 - val_loss: 1.0436 - val_accuracy: 0.5854\n",
      "Epoch 7/13\n",
      "76/76 [==============================] - 21s 273ms/step - loss: 0.8566 - accuracy: 0.6842 - val_loss: 0.9432 - val_accuracy: 0.6318\n",
      "Epoch 8/13\n",
      "76/76 [==============================] - 21s 272ms/step - loss: 0.8177 - accuracy: 0.6834 - val_loss: 0.9192 - val_accuracy: 0.6434\n",
      "Epoch 9/13\n",
      "76/76 [==============================] - 21s 271ms/step - loss: 0.7836 - accuracy: 0.6987 - val_loss: 0.9007 - val_accuracy: 0.6567\n",
      "Epoch 10/13\n",
      "76/76 [==============================] - 20s 267ms/step - loss: 0.7589 - accuracy: 0.7210 - val_loss: 0.9229 - val_accuracy: 0.6385\n",
      "Epoch 11/13\n",
      "76/76 [==============================] - 21s 269ms/step - loss: 0.7303 - accuracy: 0.7227 - val_loss: 0.9306 - val_accuracy: 0.6385\n",
      "Epoch 12/13\n",
      "76/76 [==============================] - 20s 267ms/step - loss: 0.7038 - accuracy: 0.7339 - val_loss: 0.8830 - val_accuracy: 0.6899\n",
      "Epoch 13/13\n",
      "76/76 [==============================] - 21s 269ms/step - loss: 0.6788 - accuracy: 0.7397 - val_loss: 0.9149 - val_accuracy: 0.6600\n"
     ]
    }
   ],
   "source": [
    "epochs = 13\n",
    "history = model1.fit(\n",
    "  train_ds,\n",
    "  validation_data= val_ds,\n",
    "  epochs=epochs\n",
    ")\n"
   ]
  },
  {
   "cell_type": "code",
   "execution_count": 11,
   "metadata": {},
   "outputs": [
    {
     "name": "stdout",
     "output_type": "stream",
     "text": [
      "41/41 - 2s - loss: 0.8816 - accuracy: 0.6793 - 2s/epoch - 61ms/step\n",
      "\n",
      "Test accuracy: 67.93\n"
     ]
    }
   ],
   "source": [
    "test_loss, test_acc = model1.evaluate(test_ds,verbose=2)\n",
    "print(f'\\nTest accuracy: {round(100 * test_acc, 2)}')"
   ]
  },
  {
   "cell_type": "code",
   "execution_count": 12,
   "metadata": {},
   "outputs": [
    {
     "data": {
      "image/png": "[encoded data removed]",
      "text/plain": [
       "<Figure size 576x576 with 2 Axes>"
      ]
     },
     "metadata": {
      "needs_background": "light"
     },
     "output_type": "display_data"
    }
   ],
   "source": [
    "acc = history.history['accuracy']\n",
    "val_acc = history.history['val_accuracy']\n",
    "\n",
    "loss = history.history['loss']\n",
    "val_loss = history.history['val_loss']\n",
    "\n",
    "epochs_range = range(epochs)\n",
    "\n",
    "plt.figure(figsize=(8, 8))\n",
    "plt.subplot(1, 2, 1)\n",
    "plt.plot(epochs_range, acc, label='Training Accuracy')\n",
    "plt.plot(epochs_range, val_acc, label='Validation Accuracy')\n",
    "plt.legend(loc='lower right')\n",
    "plt.title('Training and Validation Accuracy')\n",
    "\n",
    "plt.subplot(1, 2, 2)\n",
    "plt.plot(epochs_range, loss, label='Training Loss')\n",
    "plt.plot(epochs_range, val_loss, label='Validation Loss')\n",
    "plt.legend(loc='upper right')\n",
    "plt.title('Training and Validation Loss')\n",
    "plt.show()"
   ]
  },
  {
   "cell_type": "code",
   "execution_count": 13,
   "metadata": {},
   "outputs": [],
   "source": [
    "model1.compile(optimizer= Adam(learning_rate=0.0001),\n",
    "              loss=tf.keras.losses.SparseCategoricalCrossentropy(from_logits=True),\n",
    "              metrics=['accuracy'])"
   ]
  },
  {
   "cell_type": "code",
   "execution_count": 14,
   "metadata": {},
   "outputs": [
    {
     "name": "stdout",
     "output_type": "stream",
     "text": [
      "Epoch 1/3\n",
      "76/76 [==============================] - 21s 272ms/step - loss: 0.5908 - accuracy: 0.7777 - val_loss: 0.8626 - val_accuracy: 0.6998\n",
      "Epoch 2/3\n",
      "76/76 [==============================] - 21s 273ms/step - loss: 0.5891 - accuracy: 0.7885 - val_loss: 0.8547 - val_accuracy: 0.7015\n",
      "Epoch 3/3\n",
      "76/76 [==============================] - 21s 276ms/step - loss: 0.5618 - accuracy: 0.7976 - val_loss: 0.8573 - val_accuracy: 0.7048\n"
     ]
    }
   ],
   "source": [
    "epochs = 3\n",
    "history2 = model1.fit(\n",
    "  train_ds,\n",
    "  validation_data= val_ds,\n",
    "  epochs=epochs\n",
    ")"
   ]
  },
  {
   "cell_type": "code",
   "execution_count": 15,
   "metadata": {},
   "outputs": [
    {
     "name": "stdout",
     "output_type": "stream",
     "text": [
      "41/41 - 3s - loss: 0.8230 - accuracy: 0.6962 - 3s/epoch - 61ms/step\n",
      "\n",
      "Test accuracy: 69.62\n"
     ]
    }
   ],
   "source": [
    "test_loss, test_acc = model1.evaluate(test_ds,verbose=2)\n",
    "print(f'\\nTest accuracy: {round(100 * test_acc, 2)}')"
   ]
  },
  {
   "cell_type": "code",
   "execution_count": 16,
   "metadata": {},
   "outputs": [
    {
     "data": {
      "text/plain": [
       "<AxesSubplot:>"
      ]
     },
     "execution_count": 16,
     "metadata": {},
     "output_type": "execute_result"
    },
    {
     "data": {
      "image/png": "[encoded data removed]",
      "text/plain": [
       "<Figure size 432x288 with 2 Axes>"
      ]
     },
     "metadata": {
      "needs_background": "light"
     },
     "output_type": "display_data"
    }
   ],
   "source": [
    "conf_matrix1 =evaluate_conf_matrix(r'Data\\test',(180,180),model1,class_names)\n",
    "sns.heatmap(conf_matrix1, annot=True,fmt=\"d\")"
   ]
  },
  {
   "cell_type": "code",
   "execution_count": 17,
   "metadata": {},
   "outputs": [],
   "source": [
    "from torchvision.transforms import RandomHorizontalFlip, RandomVerticalFlip, RandomInvert, RandomPosterize, RandomPerspective"
   ]
  },
  {
   "cell_type": "code",
   "execution_count": 22,
   "metadata": {},
   "outputs": [],
   "source": [
    "img_tranform1 = Compose([\n",
    "    \n",
    "    ColorJitter(brightness=.5, hue=.3),\n",
    "])\n",
    "img_tranform2 = Compose([\n",
    "    RandomHorizontalFlip(p=0.6),\n",
    "    RandomVerticalFlip(p=0.6),\n",
    "    RandomPerspective(p=0.3)\n",
    "])\n",
    "\n",
    "img_tranform3 = Compose([\n",
    "    RandomInvert(p=0.6),\n",
    "    RandomPosterize(bits =2, p=0.6)\n",
    "])\n"
   ]
  },
  {
   "cell_type": "code",
   "execution_count": 23,
   "metadata": {},
   "outputs": [],
   "source": [
    "img_t_table = [img_tranform1,img_tranform2,img_tranform3]"
   ]
  },
  {
   "cell_type": "code",
   "execution_count": 24,
   "metadata": {},
   "outputs": [],
   "source": [
    "new_classes= Classes_and_velocity(r'Data\\train_val')"
   ]
  },
  {
   "cell_type": "code",
   "execution_count": 25,
   "metadata": {},
   "outputs": [],
   "source": [
    "T_function(r'Data\\train_val',new_classes,r'Data\\flowersv2',img_t_table,250)"
   ]
  },
  {
   "cell_type": "code",
   "execution_count": 26,
   "metadata": {},
   "outputs": [],
   "source": [
    "classes2 = Classes_and_velocity(r'Data\\train_val')\n",
    "names = []\n",
    "numbers = []\n",
    "for i,c in enumerate(classes2):\n",
    "    names.append(c[0] +': ' +str(c[1]) )\n",
    "    numbers.append(c[1])\n",
    "\n",
    "\n",
    "df2 =pd.DataFrame(numbers,index =names, columns= pd.Index(['flowers']))"
   ]
  },
  {
   "cell_type": "code",
   "execution_count": 27,
   "metadata": {},
   "outputs": [
    {
     "data": {
      "text/plain": [
       "<AxesSubplot:>"
      ]
     },
     "execution_count": 27,
     "metadata": {},
     "output_type": "execute_result"
    },
    {
     "data": {
      "image/png": "[encoded data removed]",
      "text/plain": [
       "<Figure size 432x288 with 1 Axes>"
      ]
     },
     "metadata": {
      "needs_background": "light"
     },
     "output_type": "display_data"
    }
   ],
   "source": [
    "df2.plot.bar()"
   ]
  },
  {
   "cell_type": "code",
   "execution_count": 28,
   "metadata": {},
   "outputs": [],
   "source": [
    "model2 = Sequential([\n",
    "  data_augmentation,\n",
    "  layers.Rescaling(1./255),\n",
    "  layers.Conv2D(5, 3, padding='same', activation='relu'),\n",
    "  layers.MaxPooling2D(),\n",
    "  layers.Conv2D(10, 3, padding='same', activation='relu'),\n",
    "  layers.MaxPooling2D(),\n",
    "  layers.Conv2D(64, 3, padding='same', activation='relu'),\n",
    "  layers.MaxPooling2D(),\n",
    "  layers.Flatten(),\n",
    "  layers.Dense(128, activation='relu'),\n",
    "  layers.Dropout(0.1),\n",
    "  layers.Dense(50, activation='relu'),\n",
    "  layers.Dropout(0.1),\n",
    "  layers.Dense(num_classes,activation='sigmoid')\n",
    "])\n",
    "\n",
    "model2.compile(optimizer='adam',\n",
    "              loss=tf.keras.losses.SparseCategoricalCrossentropy(from_logits=True),\n",
    "              metrics=['accuracy'])"
   ]
  },
  {
   "cell_type": "code",
   "execution_count": 29,
   "metadata": {},
   "outputs": [
    {
     "name": "stdout",
     "output_type": "stream",
     "text": [
      "Found 4931 files belonging to 5 classes.\n",
      "Using 3945 files for training.\n",
      "Found 4931 files belonging to 5 classes.\n",
      "Using 986 files for validation.\n"
     ]
    }
   ],
   "source": [
    "train2_ds = tf.keras.utils.image_dataset_from_directory( r'Data\\train_val', validation_split= 0.2, subset=\"training\", seed=123, image_size=(180, 180),batch_size=32)\n",
    "\n",
    "val2_ds = tf.keras.utils.image_dataset_from_directory( r'Data\\train_val', validation_split= 0.2, subset=\"validation\", seed=123, image_size=(180, 180),batch_size=180)"
   ]
  },
  {
   "cell_type": "code",
   "execution_count": 30,
   "metadata": {},
   "outputs": [
    {
     "name": "stdout",
     "output_type": "stream",
     "text": [
      "Epoch 1/15\n"
     ]
    },
    {
     "name": "stderr",
     "output_type": "stream",
     "text": [
      "C:\\Users\\macie\\AppData\\Local\\Programs\\Python\\Python39\\lib\\site-packages\\tensorflow\\python\\util\\dispatch.py:1096: UserWarning: \"`sparse_categorical_crossentropy` received `from_logits=True`, but the `output` argument was produced by a sigmoid or softmax activation and thus does not represent logits. Was this intended?\"\n",
      "  return dispatch_target(*args, **kwargs)\n"
     ]
    },
    {
     "name": "stdout",
     "output_type": "stream",
     "text": [
      "124/124 [==============================] - 34s 267ms/step - loss: 1.5062 - accuracy: 0.3288 - val_loss: 1.3491 - val_accuracy: 0.4341\n",
      "Epoch 2/15\n",
      "124/124 [==============================] - 35s 281ms/step - loss: 1.2759 - accuracy: 0.4862 - val_loss: 1.1559 - val_accuracy: 0.5365\n",
      "Epoch 3/15\n",
      "124/124 [==============================] - 37s 297ms/step - loss: 1.1451 - accuracy: 0.5523 - val_loss: 1.0783 - val_accuracy: 0.5588\n",
      "Epoch 4/15\n",
      "124/124 [==============================] - 33s 265ms/step - loss: 1.0820 - accuracy: 0.5797 - val_loss: 1.1348 - val_accuracy: 0.5558\n",
      "Epoch 5/15\n",
      "124/124 [==============================] - 33s 269ms/step - loss: 1.0318 - accuracy: 0.6013 - val_loss: 0.9754 - val_accuracy: 0.6075\n",
      "Epoch 6/15\n",
      "124/124 [==============================] - 33s 265ms/step - loss: 1.0088 - accuracy: 0.6086 - val_loss: 0.9431 - val_accuracy: 0.6136\n",
      "Epoch 7/15\n",
      "124/124 [==============================] - 33s 265ms/step - loss: 0.9581 - accuracy: 0.6388 - val_loss: 0.9766 - val_accuracy: 0.6227\n",
      "Epoch 8/15\n",
      "124/124 [==============================] - 33s 265ms/step - loss: 0.9307 - accuracy: 0.6553 - val_loss: 0.9214 - val_accuracy: 0.6318\n",
      "Epoch 9/15\n",
      "124/124 [==============================] - 32s 261ms/step - loss: 0.8944 - accuracy: 0.6545 - val_loss: 0.9069 - val_accuracy: 0.6410\n",
      "Epoch 10/15\n",
      "124/124 [==============================] - 32s 260ms/step - loss: 0.8688 - accuracy: 0.6601 - val_loss: 0.8997 - val_accuracy: 0.6389\n",
      "Epoch 11/15\n",
      "124/124 [==============================] - 32s 260ms/step - loss: 0.8300 - accuracy: 0.6842 - val_loss: 0.8734 - val_accuracy: 0.6592\n",
      "Epoch 12/15\n",
      "124/124 [==============================] - 32s 261ms/step - loss: 0.7826 - accuracy: 0.6984 - val_loss: 0.8757 - val_accuracy: 0.6836\n",
      "Epoch 13/15\n",
      "124/124 [==============================] - 33s 267ms/step - loss: 0.7794 - accuracy: 0.7027 - val_loss: 0.8506 - val_accuracy: 0.6775\n",
      "Epoch 14/15\n",
      "124/124 [==============================] - 33s 263ms/step - loss: 0.7248 - accuracy: 0.7354 - val_loss: 0.8742 - val_accuracy: 0.6653\n",
      "Epoch 15/15\n",
      "124/124 [==============================] - 32s 261ms/step - loss: 0.7187 - accuracy: 0.7257 - val_loss: 0.8536 - val_accuracy: 0.6836\n"
     ]
    }
   ],
   "source": [
    "epochs = 15\n",
    "history2 = model2.fit(\n",
    "  train2_ds,\n",
    "  validation_data= val2_ds,\n",
    "  epochs=epochs\n",
    ")"
   ]
  },
  {
   "cell_type": "code",
   "execution_count": 31,
   "metadata": {},
   "outputs": [
    {
     "name": "stdout",
     "output_type": "stream",
     "text": [
      "41/41 - 3s - loss: 0.8883 - accuracy: 0.6870 - 3s/epoch - 64ms/step\n",
      "\n",
      "Test accuracy: 68.7\n"
     ]
    }
   ],
   "source": [
    "test_loss, test_acc = model2.evaluate(test_ds,verbose=2)\n",
    "print(f'\\nTest accuracy: {round(100 * test_acc, 2)}')"
   ]
  },
  {
   "cell_type": "code",
   "execution_count": 32,
   "metadata": {},
   "outputs": [
    {
     "data": {
      "image/png": "[encoded data removed]",
      "text/plain": [
       "<Figure size 576x576 with 2 Axes>"
      ]
     },
     "metadata": {
      "needs_background": "light"
     },
     "output_type": "display_data"
    }
   ],
   "source": [
    "acc = history2.history['accuracy']\n",
    "val_acc = history2.history['val_accuracy']\n",
    "\n",
    "loss = history2.history['loss']\n",
    "val_loss = history2.history['val_loss']\n",
    "\n",
    "epochs_range = range(epochs)\n",
    "\n",
    "plt.figure(figsize=(8, 8))\n",
    "plt.subplot(1, 2, 1)\n",
    "plt.plot(epochs_range, acc, label='Training Accuracy')\n",
    "plt.plot(epochs_range, val_acc, label='Validation Accuracy')\n",
    "plt.legend(loc='lower right')\n",
    "plt.title('Training and Validation Accuracy')\n",
    "\n",
    "plt.subplot(1, 2, 2)\n",
    "plt.plot(epochs_range, loss, label='Training Loss')\n",
    "plt.plot(epochs_range, val_loss, label='Validation Loss')\n",
    "plt.legend(loc='upper right')\n",
    "plt.title('Training and Validation Loss')\n",
    "plt.show()"
   ]
  },
  {
   "cell_type": "code",
   "execution_count": 33,
   "metadata": {},
   "outputs": [],
   "source": [
    "model2.compile(optimizer= Adam(learning_rate=0.0001),\n",
    "              loss=tf.keras.losses.SparseCategoricalCrossentropy(from_logits=True),\n",
    "              metrics=['accuracy'])"
   ]
  },
  {
   "cell_type": "code",
   "execution_count": 34,
   "metadata": {},
   "outputs": [
    {
     "name": "stdout",
     "output_type": "stream",
     "text": [
      "Epoch 1/4\n",
      "124/124 [==============================] - 34s 271ms/step - loss: 0.6383 - accuracy: 0.7610 - val_loss: 0.8026 - val_accuracy: 0.7059\n",
      "Epoch 2/4\n",
      "124/124 [==============================] - 34s 274ms/step - loss: 0.5946 - accuracy: 0.7792 - val_loss: 0.7964 - val_accuracy: 0.7049\n",
      "Epoch 3/4\n",
      "124/124 [==============================] - 34s 271ms/step - loss: 0.5949 - accuracy: 0.7747 - val_loss: 0.7939 - val_accuracy: 0.7069\n",
      "Epoch 4/4\n",
      "124/124 [==============================] - 34s 270ms/step - loss: 0.5913 - accuracy: 0.7828 - val_loss: 0.7844 - val_accuracy: 0.7120\n"
     ]
    }
   ],
   "source": [
    "epochs = 4\n",
    "history2 = model2.fit(\n",
    "  train2_ds,\n",
    "  validation_data= val2_ds,\n",
    "  epochs=epochs\n",
    ")"
   ]
  },
  {
   "cell_type": "code",
   "execution_count": 35,
   "metadata": {},
   "outputs": [
    {
     "name": "stdout",
     "output_type": "stream",
     "text": [
      "41/41 - 3s - loss: 0.8256 - accuracy: 0.6985 - 3s/epoch - 64ms/step\n",
      "\n",
      "Test accuracy: 69.85\n"
     ]
    }
   ],
   "source": [
    "test_loss, test_acc = model2.evaluate(test_ds,verbose=2)\n",
    "print(f'\\nTest accuracy: {round(100 * test_acc, 2)}')"
   ]
  },
  {
   "cell_type": "code",
   "execution_count": 65,
   "metadata": {},
   "outputs": [
    {
     "name": "stdout",
     "output_type": "stream",
     "text": [
      "Epoch 1/2\n",
      "105/105 [==============================] - 30s 286ms/step - loss: 0.4535 - accuracy: 0.8332 - val_loss: 0.7936 - val_accuracy: 0.7344\n",
      "Epoch 2/2\n",
      "105/105 [==============================] - 30s 289ms/step - loss: 0.4371 - accuracy: 0.8350 - val_loss: 0.7952 - val_accuracy: 0.7368\n"
     ]
    }
   ],
   "source": [
    "epochs = 2\n",
    "history2 = model2.fit(\n",
    "  train2_ds,\n",
    "  validation_data= val2_ds,\n",
    "  epochs=epochs)"
   ]
  },
  {
   "cell_type": "code",
   "execution_count": 66,
   "metadata": {},
   "outputs": [
    {
     "name": "stdout",
     "output_type": "stream",
     "text": [
      "41/41 - 3s - loss: 0.9258 - accuracy: 0.6978 - 3s/epoch - 65ms/step\n",
      "\n",
      "Test accuracy: 69.78\n"
     ]
    }
   ],
   "source": [
    "test_loss, test_acc = model2.evaluate(test_ds,verbose=2)\n",
    "print(f'\\nTest accuracy: {round(100 * test_acc, 2)}')"
   ]
  },
  {
   "cell_type": "code",
   "execution_count": 36,
   "metadata": {},
   "outputs": [],
   "source": [
    "conf_matrix =evaluate_conf_matrix(r'Data\\test',(180,180),model2,class_names)"
   ]
  },
  {
   "cell_type": "code",
   "execution_count": 37,
   "metadata": {},
   "outputs": [
    {
     "data": {
      "text/plain": [
       "<AxesSubplot:>"
      ]
     },
     "execution_count": 37,
     "metadata": {},
     "output_type": "execute_result"
    },
    {
     "data": {
      "image/png": "[encoded data removed]",
      "text/plain": [
       "<Figure size 432x288 with 2 Axes>"
      ]
     },
     "metadata": {
      "needs_background": "light"
     },
     "output_type": "display_data"
    }
   ],
   "source": [
    "sns.heatmap(conf_matrix, annot=True,fmt=\"d\",cmap='Blues')"
   ]
  },
  {
   "cell_type": "markdown",
   "metadata": {},
   "source": [
    "Wnioski: z racji tego że w pierwszym modelu użyłem agumentacji, która miała podobny efekt co stworzenie większego zbioru danych, ważne jest to że zbiór został zbalansowany i za złe przewidywania z różnych klas był \"karany\" w takim samym stopniu więc nie poświęcał dokładności w jednych klasach za dokładnośc w innych. "
   ]
  }
 ],
 "metadata": {
  "interpreter": {
   "hash": "cc190a3027606d512974291518a2465851711e5e0abf4f377c9e478b313d3fae"
  },
  "kernelspec": {
   "display_name": "Python 3.9.7 64-bit",
   "language": "python",
   "name": "python3"
  },
  "language_info": {
   "codemirror_mode": {
    "name": "ipython",
    "version": 3
   },
   "file_extension": ".py",
   "mimetype": "text/x-python",
   "name": "python",
   "nbconvert_exporter": "python",
   "pygments_lexer": "ipython3",
   "version": "3.9.7"
  },
  "orig_nbformat": 4
 },
 "nbformat": 4,
 "nbformat_minor": 2
}
